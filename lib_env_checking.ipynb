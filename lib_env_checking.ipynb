{
 "cells": [
  {
   "cell_type": "code",
   "execution_count": 1,
   "metadata": {
    "collapsed": true
   },
   "outputs": [],
   "source": [
    "from nilmtk.utils import show_versions"
   ]
  },
  {
   "cell_type": "code",
   "execution_count": 2,
   "metadata": {
    "collapsed": false
   },
   "outputs": [
    {
     "name": "stdout",
     "output_type": "stream",
     "text": [
      "\n",
      "INSTALLED VERSIONS\n",
      "------------------\n",
      "commit: None\n",
      "python: 2.7.11.final.0\n",
      "python-bits: 64\n",
      "OS: Darwin\n",
      "OS-release: 15.3.0\n",
      "machine: x86_64\n",
      "processor: i386\n",
      "byteorder: little\n",
      "LC_ALL: None\n",
      "LANG: ko_KR.UTF-8\n",
      "\n",
      "pandas: 0.17.1\n",
      "nose: 1.3.7\n",
      "pip: 8.0.2\n",
      "setuptools: 19.6.2\n",
      "Cython: 0.23.4\n",
      "numpy: 1.10.4\n",
      "scipy: 0.17.0\n",
      "statsmodels: None\n",
      "IPython: 4.1.1\n",
      "sphinx: None\n",
      "patsy: None\n",
      "dateutil: 2.4.2\n",
      "pytz: 2015.7\n",
      "blosc: None\n",
      "bottleneck: 1.0.0\n",
      "tables: 3.2.2\n",
      "numexpr: 2.4.6\n",
      "matplotlib: 1.5.1\n",
      "openpyxl: None\n",
      "xlrd: None\n",
      "xlwt: None\n",
      "xlsxwriter: None\n",
      "lxml: None\n",
      "bs4: None\n",
      "html5lib: None\n",
      "httplib2: None\n",
      "apiclient: None\n",
      "sqlalchemy: None\n",
      "pymysql: None\n",
      "psycopg2: None\n",
      "Jinja2: None\n",
      "None\n",
      "\n",
      "Date: 2016-02-22 21:05:53.738248\n",
      "Platform: Darwin-15.3.0-x86_64-i386-64bit\n",
      "System version: 2.7\n",
      "nilmtk version: 0.2.0.dev-035fe79\n",
      "nilm_metadata version: 0.2.0.dev-000207d\n",
      "numpy version: 1.10.4\n",
      "matplotlib version: 1.5.1\n",
      "pandas version: 0.17.1\n",
      "sklearn version: 0.17.1\n",
      "hmmlearn version: 0.1.1\n"
     ]
    }
   ],
   "source": [
    "show_versions()"
   ]
  },
  {
   "cell_type": "code",
   "execution_count": 3,
   "metadata": {
    "collapsed": false
   },
   "outputs": [
    {
     "ename": "SyntaxError",
     "evalue": "invalid syntax (<ipython-input-3-6adbf7bcf6e1>, line 1)",
     "output_type": "error",
     "traceback": [
      "\u001b[0;36m  File \u001b[0;32m\"<ipython-input-3-6adbf7bcf6e1>\"\u001b[0;36m, line \u001b[0;32m1\u001b[0m\n\u001b[0;31m    conda install pandas=0.16.2\u001b[0m\n\u001b[0m                ^\u001b[0m\n\u001b[0;31mSyntaxError\u001b[0m\u001b[0;31m:\u001b[0m invalid syntax\n"
     ]
    }
   ],
   "source": [
    "conda install pandas=0.16.2"
   ]
  },
  {
   "cell_type": "code",
   "execution_count": null,
   "metadata": {
    "collapsed": true
   },
   "outputs": [],
   "source": []
  }
 ],
 "metadata": {
  "kernelspec": {
   "display_name": "Python 2",
   "language": "python",
   "name": "python2"
  },
  "language_info": {
   "codemirror_mode": {
    "name": "ipython",
    "version": 2
   },
   "file_extension": ".py",
   "mimetype": "text/x-python",
   "name": "python",
   "nbconvert_exporter": "python",
   "pygments_lexer": "ipython2",
   "version": "2.7.11"
  }
 },
 "nbformat": 4,
 "nbformat_minor": 0
}
